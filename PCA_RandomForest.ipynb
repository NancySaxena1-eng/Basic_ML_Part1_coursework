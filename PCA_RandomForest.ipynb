{
  "nbformat": 4,
  "nbformat_minor": 0,
  "metadata": {
    "kernelspec": {
      "display_name": "Python 3",
      "language": "python",
      "name": "python3"
    },
    "language_info": {
      "codemirror_mode": {
        "name": "ipython",
        "version": 3
      },
      "file_extension": ".py",
      "mimetype": "text/x-python",
      "name": "python",
      "nbconvert_exporter": "python",
      "pygments_lexer": "ipython3",
      "version": "3.7.6"
    },
    "colab": {
      "name": "HW 10_new_1.ipynb",
      "provenance": []
    }
  },
  "cells": [
    {
      "cell_type": "markdown",
      "metadata": {
        "id": "AHVZdC-WGHLL"
      },
      "source": [
        "### What are the main motivations for reducing a dataset’s dimensionality? \n",
        "\n",
        "---\n",
        "\n",
        "\n",
        "### What are the main drawbacks? "
      ]
    },
    {
      "cell_type": "markdown",
      "metadata": {
        "id": "jwAfZI_DiK7-"
      },
      "source": [
        "Main motivations for reducing a dataset's dimensionality:\n",
        "\n",
        "1)Removes redundant features and noise, thus increasing the speed of the training of the algorithm.\n",
        "\n",
        "2)Less data means less storage space required.\n",
        "\n",
        "3)It helps to visualize the data.\n",
        " \n",
        "Main drawbacks is it leads to some amount of data loss.Another drawback can be the features after applying PCA are hard to interpret."
      ]
    },
    {
      "cell_type": "markdown",
      "metadata": {
        "id": "KDF-7N6pG4-O"
      },
      "source": [
        "### What are other applications of PCA (other than visualizing data)?"
      ]
    },
    {
      "cell_type": "markdown",
      "metadata": {
        "id": "a9zWOs53iDmh"
      },
      "source": [
        "Applications of PCA other than visualizing are :\n",
        "\n",
        "1)Data compression\n",
        "\n",
        "2)Dimensionality reduction"
      ]
    },
    {
      "cell_type": "markdown",
      "metadata": {
        "id": "PSDKxE7HG_Z5"
      },
      "source": [
        "### What are the limitations of PCA?"
      ]
    },
    {
      "cell_type": "markdown",
      "metadata": {
        "id": "QGP2-IKqhmgo"
      },
      "source": [
        "**Limitations of PCA are**\n",
        "\n",
        "1) PCA is not scale invariant.Therefore, we would need to scale the data before applying PCA.\n",
        "\n",
        "2) Hard to interpret, since we cannot deduce which features are important.\n",
        "\n",
        "3) PCA relies on linear assumptions i.e. it makes an assumption that the data is linearly correlated, but if the data is non-linearly correlated PCA is not enough.\n",
        "\n",
        "4) There is data loss after applying PCA."
      ]
    },
    {
      "cell_type": "markdown",
      "metadata": {
        "id": "nS_QWLDuGHLZ"
      },
      "source": [
        "### Load the MNIST dataset (given below) \n"
      ]
    },
    {
      "cell_type": "code",
      "metadata": {
        "id": "JRfK2zLRGHLZ",
        "colab": {
          "base_uri": "https://localhost:8080/"
        },
        "outputId": "ca305c1f-3de2-46cc-e899-b5a1b3d63f8d"
      },
      "source": [
        "from sklearn.datasets import fetch_openml\n",
        "mnist = fetch_openml('mnist_784', version=1)\n",
        "mnist.keys()"
      ],
      "execution_count": 87,
      "outputs": [
        {
          "output_type": "execute_result",
          "data": {
            "text/plain": [
              "dict_keys(['data', 'target', 'frame', 'feature_names', 'target_names', 'DESCR', 'details', 'categories', 'url'])"
            ]
          },
          "metadata": {},
          "execution_count": 87
        }
      ]
    },
    {
      "cell_type": "markdown",
      "metadata": {
        "id": "C_4apQojGHLa"
      },
      "source": [
        "### Split it into a training set and a test set\n",
        "### Take the first 60,000 instances for training, and the remaining 10,000 for testing."
      ]
    },
    {
      "cell_type": "code",
      "metadata": {
        "colab": {
          "base_uri": "https://localhost:8080/"
        },
        "id": "cM7lhak3ii-Q",
        "outputId": "ba8cecf4-e858-4cef-ee33-faf2194b5bba"
      },
      "source": [
        "mnist.target"
      ],
      "execution_count": 88,
      "outputs": [
        {
          "output_type": "execute_result",
          "data": {
            "text/plain": [
              "array(['5', '0', '4', ..., '4', '5', '6'], dtype=object)"
            ]
          },
          "metadata": {},
          "execution_count": 88
        }
      ]
    },
    {
      "cell_type": "code",
      "metadata": {
        "id": "K6IVn2FlGHLa",
        "colab": {
          "base_uri": "https://localhost:8080/"
        },
        "outputId": "5e5e9b6f-9fdb-4a9c-c36c-15ecab264be8"
      },
      "source": [
        "mnist.data.shape"
      ],
      "execution_count": 89,
      "outputs": [
        {
          "output_type": "execute_result",
          "data": {
            "text/plain": [
              "(70000, 784)"
            ]
          },
          "metadata": {},
          "execution_count": 89
        }
      ]
    },
    {
      "cell_type": "code",
      "metadata": {
        "id": "nVFKwX2QtMU4"
      },
      "source": [
        "import numpy as np\n",
        "mnist.target = mnist.target.astype(np.int8)\n",
        "reorder_train = np.array(sorted([(target, i) for i, target in enumerate(mnist.target[:60000])]))[:, 1]\n",
        "reorder_test = np.array(sorted([(target, i) for i, target in enumerate(mnist.target[60000:])]))[:, 1]\n"
      ],
      "execution_count": 90,
      "outputs": []
    },
    {
      "cell_type": "markdown",
      "metadata": {
        "id": "BX6d0mJc6Ity"
      },
      "source": [
        "**Scaling the data**"
      ]
    },
    {
      "cell_type": "code",
      "metadata": {
        "id": "wdAXfPyXJ5bB"
      },
      "source": [
        "from sklearn.preprocessing import StandardScaler\n",
        "scaler = StandardScaler()\n",
        "mnist.data =  scaler.fit_transform(mnist.data)\n",
        "#mnist_train_x = scaler.fit_transform(mnist_train_x)\n",
        "#mnist_test_x = scaler.fit_transform(mnist_test_x)"
      ],
      "execution_count": 91,
      "outputs": []
    },
    {
      "cell_type": "markdown",
      "metadata": {
        "id": "su2RFCTI6Oll"
      },
      "source": [
        "**Separating into test and train set**"
      ]
    },
    {
      "cell_type": "code",
      "metadata": {
        "id": "ChhQ9Tr4uNGu",
        "colab": {
          "base_uri": "https://localhost:8080/"
        },
        "outputId": "d1001ba9-cd56-4e57-f9a7-8e492807ea90"
      },
      "source": [
        "mnist_train_x = mnist.data[:60000]\n",
        "mnist_test_x = mnist.data[60000:]\n",
        "mnist_train_y = mnist.target[:60000]\n",
        "mnist_test_y = mnist.target[60000:]\n",
        "print(mnist_test_x.shape)"
      ],
      "execution_count": 92,
      "outputs": [
        {
          "output_type": "stream",
          "name": "stdout",
          "text": [
            "(10000, 784)\n"
          ]
        }
      ]
    },
    {
      "cell_type": "markdown",
      "metadata": {
        "id": "Tfes2owSGHLa"
      },
      "source": [
        "### Train a Random Forest classifier on the dataset and time how long it takes, \n",
        "### then evaluate the resulting model on the test set. "
      ]
    },
    {
      "cell_type": "code",
      "metadata": {
        "id": "-637frfOGHLa",
        "colab": {
          "base_uri": "https://localhost:8080/"
        },
        "outputId": "61f3b22f-4f3c-4506-9d0a-72b10f6ab98a"
      },
      "source": [
        "import time                                                \n",
        "from sklearn.ensemble import RandomForestClassifier\n",
        "from sklearn.datasets import make_classification\n",
        "#mnist_train_x, mnist_train_y = make_classification(n_samples=1000, n_features=4, n_informative=2, n_redundant=0, random_state=0, shuffle=False)\n",
        "t0 = time.time()\n",
        "\n",
        "clf = RandomForestClassifier(max_depth=10, random_state=0)\n",
        "\n",
        "clf.fit(mnist_train_x, mnist_train_y)\n",
        "end = time.time()\n",
        "y_pred =clf.predict(mnist_test_x)\n",
        "print(clf.predict(mnist_test_x))\n",
        "\n",
        "print(\"done in %0.3fs\" % (end - t0))\n",
        "print(\"Accuracy for the classifier without pca:\",accuracy_score(mnist_test_y,y_pred ))"
      ],
      "execution_count": 93,
      "outputs": [
        {
          "output_type": "stream",
          "name": "stdout",
          "text": [
            "[7 2 1 ... 4 5 6]\n",
            "done in 26.209s\n",
            "Accuracy for the classifier without pca: 0.9468\n"
          ]
        }
      ]
    },
    {
      "cell_type": "markdown",
      "metadata": {
        "id": "vwplwaqj6YH1"
      },
      "source": [
        "**The time taken to fit the model is 25.624s**"
      ]
    },
    {
      "cell_type": "markdown",
      "metadata": {
        "id": "9DyypiqOGHLb"
      },
      "source": [
        "### Next, use PCA to reduce the dataset’s dimensionality, with an explained variance ratio of 95%."
      ]
    },
    {
      "cell_type": "markdown",
      "metadata": {
        "id": "Bqh5S57Q6hw7"
      },
      "source": [
        "**Applying PCA**"
      ]
    },
    {
      "cell_type": "code",
      "metadata": {
        "id": "--8uRdpBGHLb",
        "colab": {
          "base_uri": "https://localhost:8080/"
        },
        "outputId": "caf49909-ab7a-4033-cf7f-a35fbf489783"
      },
      "source": [
        "from sklearn.decomposition import PCA\n",
        "t1 = time.time()\n",
        "pca = PCA(n_components=0.95).fit(mnist.data)\n",
        "X_train_pca = pca.transform(mnist.data)\n",
        "\n",
        "print(\"done in %0.3fs\" % (time.time() - t1))\n",
        "\n",
        "print(pca.n_components_)"
      ],
      "execution_count": 94,
      "outputs": [
        {
          "output_type": "stream",
          "name": "stdout",
          "text": [
            "done in 13.618s\n",
            "332\n"
          ]
        }
      ]
    },
    {
      "cell_type": "code",
      "metadata": {
        "colab": {
          "base_uri": "https://localhost:8080/"
        },
        "id": "9kfw1aJV-Pch",
        "outputId": "acd35243-556a-42c0-8bfc-6794c1534068"
      },
      "source": [
        "print(pca.explained_variance_ratio_)"
      ],
      "execution_count": 95,
      "outputs": [
        {
          "output_type": "stream",
          "name": "stdout",
          "text": [
            "[0.05642719 0.04041226 0.03738273 0.02893    0.02520752 0.02192549\n",
            " 0.01914282 0.01740684 0.01532232 0.01396087 0.01342175 0.01201421\n",
            " 0.01113962 0.01090582 0.01027986 0.00994955 0.00931255 0.00919635\n",
            " 0.008886   0.00863195 0.00821741 0.00798417 0.00762573 0.00742315\n",
            " 0.0071657  0.00689314 0.00681399 0.00654588 0.00627293 0.00610345\n",
            " 0.00597261 0.00589304 0.00567358 0.00559358 0.00552473 0.00534443\n",
            " 0.00527593 0.00515841 0.00505498 0.00477438 0.00476312 0.00465155\n",
            " 0.00453454 0.00445757 0.00442313 0.00437877 0.00437294 0.00427724\n",
            " 0.00424808 0.00418524 0.00404059 0.00396258 0.00393176 0.00390562\n",
            " 0.00386444 0.00377501 0.00373883 0.00368328 0.00360377 0.0035637\n",
            " 0.00349289 0.00344527 0.00343239 0.00341    0.00334463 0.00332107\n",
            " 0.00329803 0.00319433 0.0031711  0.00315431 0.00309941 0.00305782\n",
            " 0.00305095 0.0030396  0.00296635 0.00292958 0.00291295 0.00290232\n",
            " 0.00288608 0.00287022 0.00284514 0.00281524 0.00279245 0.00278629\n",
            " 0.00278233 0.00276733 0.0027542  0.00272901 0.0026874  0.00268139\n",
            " 0.00267354 0.00263003 0.00262155 0.00258872 0.00258429 0.002571\n",
            " 0.002519   0.00250904 0.00248094 0.00244092 0.00243607 0.00241671\n",
            " 0.00238999 0.00236394 0.00235632 0.00232326 0.00229151 0.00225292\n",
            " 0.00223891 0.0022322  0.00219714 0.00219026 0.00215303 0.00213447\n",
            " 0.00210763 0.00210123 0.00206525 0.00205073 0.00202906 0.00198907\n",
            " 0.00197597 0.00196588 0.00195394 0.00194545 0.00192834 0.00191505\n",
            " 0.0018926  0.001884   0.00186304 0.0018189  0.00180676 0.00179009\n",
            " 0.00178407 0.00176999 0.00175852 0.0017478  0.00173304 0.001728\n",
            " 0.00169433 0.00167648 0.00165855 0.00164975 0.00164603 0.00164149\n",
            " 0.00161138 0.00160413 0.00158927 0.00156601 0.00156231 0.00154815\n",
            " 0.00153566 0.00152617 0.00151562 0.00149189 0.0014888  0.00147098\n",
            " 0.00146274 0.00144916 0.00144202 0.00142795 0.00142245 0.00142043\n",
            " 0.00140016 0.00139306 0.00139149 0.00139049 0.00138895 0.00138616\n",
            " 0.00138451 0.00136449 0.00135787 0.00135151 0.001349   0.00133797\n",
            " 0.00132635 0.00131349 0.00129857 0.00129275 0.00128703 0.00127087\n",
            " 0.00126384 0.00125841 0.00123504 0.00122147 0.00121683 0.00121135\n",
            " 0.00119987 0.0011959  0.00117699 0.00117216 0.00116486 0.00115194\n",
            " 0.00114869 0.00114259 0.00113339 0.00112363 0.0011098  0.0010857\n",
            " 0.00108128 0.00106264 0.00105589 0.00104707 0.00104297 0.00102776\n",
            " 0.00101473 0.00100924 0.00099916 0.00099336 0.00098883 0.00097517\n",
            " 0.00096859 0.00096289 0.00095418 0.00094574 0.00094345 0.00093592\n",
            " 0.00092743 0.00090978 0.00090247 0.00089122 0.0008811  0.00087677\n",
            " 0.00087115 0.00086639 0.0008581  0.00085287 0.00084026 0.0008293\n",
            " 0.00082325 0.00081886 0.00081504 0.00080889 0.00080534 0.00079901\n",
            " 0.00078771 0.00078122 0.00077733 0.00077151 0.00075642 0.00075139\n",
            " 0.00074756 0.00073904 0.00073446 0.00072745 0.00072132 0.00071168\n",
            " 0.00070254 0.00070072 0.0006958  0.00068794 0.00068262 0.00067936\n",
            " 0.00067621 0.00066319 0.00066042 0.00065928 0.00065277 0.00063943\n",
            " 0.00063772 0.00063592 0.0006307  0.00062632 0.00061863 0.00061657\n",
            " 0.00060856 0.00060434 0.00059843 0.00058724 0.00058085 0.000576\n",
            " 0.00057315 0.00057071 0.00056459 0.00056026 0.00055714 0.00054952\n",
            " 0.0005471  0.00054404 0.00054158 0.00053849 0.00053598 0.00052652\n",
            " 0.00052487 0.00051799 0.00051499 0.00051252 0.00050578 0.00050238\n",
            " 0.00049864 0.00049624 0.0004944  0.00049112 0.00048178 0.00047847\n",
            " 0.00047651 0.00047552 0.00047147 0.00046091 0.00045825 0.00044977\n",
            " 0.00044841 0.00044791 0.00044299 0.0004388  0.00043726 0.00043261\n",
            " 0.00043036 0.0004228  0.00041957 0.00041683 0.00041542 0.00041235\n",
            " 0.00041092 0.00040894 0.00040756 0.00040225 0.00039977 0.00039671\n",
            " 0.00039165 0.00038918 0.00038757 0.0003866  0.00038275 0.00037874\n",
            " 0.00037818 0.00037467 0.00037178 0.00036996 0.00036669 0.00036099\n",
            " 0.00035912 0.00035849]\n"
          ]
        }
      ]
    },
    {
      "cell_type": "markdown",
      "metadata": {
        "id": "Mm8QSbgR6o3A"
      },
      "source": [
        "**Separating into test and train set**"
      ]
    },
    {
      "cell_type": "code",
      "metadata": {
        "colab": {
          "base_uri": "https://localhost:8080/"
        },
        "id": "0j0nW3BZ4K8F",
        "outputId": "8df95de3-5085-48ec-bac5-f0f07c759b9a"
      },
      "source": [
        "mnist_train_x = X_train_pca[:60000]\n",
        "mnist_test_x = X_train_pca[60000:]\n",
        "print(mnist_test_x.shape)"
      ],
      "execution_count": 96,
      "outputs": [
        {
          "output_type": "stream",
          "name": "stdout",
          "text": [
            "(10000, 332)\n"
          ]
        }
      ]
    },
    {
      "cell_type": "markdown",
      "metadata": {
        "id": "yvpNwaKQGHLb"
      },
      "source": [
        "### Train a new Random Forest classifier on the reduced dataset and see how long it takes.\n",
        "### Was training much faster? "
      ]
    },
    {
      "cell_type": "code",
      "metadata": {
        "id": "iSmomntyGHLb",
        "colab": {
          "base_uri": "https://localhost:8080/"
        },
        "outputId": "6e987fac-ad43-49d6-bf03-6abb2dd2be0e"
      },
      "source": [
        "clf1 = RandomForestClassifier(max_depth=10,random_state=0)\n",
        "\n",
        "t1 = time.time()\n",
        "\n",
        "clf1.fit(mnist_train_x, mnist_train_y)\n",
        "end = time.time()\n",
        "y_pred_pca= clf1.predict(mnist_test_x)\n",
        "print(clf1.predict(mnist_test_x))\n",
        "\n",
        "\n",
        "print(\"done in %0.3fs\" % (end - t1))\n"
      ],
      "execution_count": 97,
      "outputs": [
        {
          "output_type": "stream",
          "name": "stdout",
          "text": [
            "[7 2 1 ... 4 5 6]\n",
            "done in 100.706s\n"
          ]
        }
      ]
    },
    {
      "cell_type": "markdown",
      "metadata": {
        "id": "hf1clMidxOBM"
      },
      "source": [
        "Time taken before applying PCA: 26.02s\n",
        "\n",
        "Time take after applying  PCA: 100.70s\n",
        "\n",
        "No, the training time was much higher after applying PCA than without appying PCA. \n"
      ]
    },
    {
      "cell_type": "markdown",
      "metadata": {
        "id": "F1u9d4FpGHLc"
      },
      "source": [
        "### Next evaluate the classifier on the test set: how does it compare to the previous classifier?"
      ]
    },
    {
      "cell_type": "code",
      "metadata": {
        "id": "IEd77HLFGHLc",
        "colab": {
          "base_uri": "https://localhost:8080/"
        },
        "outputId": "a43a6a08-6e2d-454f-f49c-a721d57b2f77"
      },
      "source": [
        "\n",
        "from sklearn.metrics import confusion_matrix\n",
        "from sklearn.metrics import accuracy_score\n",
        "\n",
        "print(\"Accuracy for the classifier with pca:\",accuracy_score(mnist_test_y,y_pred_pca ))\n",
        "\n",
        "print(\"Accuracy for the classifier without pca:\",accuracy_score(mnist_test_y,y_pred ))"
      ],
      "execution_count": 98,
      "outputs": [
        {
          "output_type": "stream",
          "name": "stdout",
          "text": [
            "Accuracy for the classifier with pca: 0.9124\n",
            "Accuracy for the classifier without pca: 0.9468\n"
          ]
        }
      ]
    },
    {
      "cell_type": "markdown",
      "metadata": {
        "id": "WdDVZix2CPCa"
      },
      "source": [
        "Accuracy of the model after applying PCA is lower than the before applying PCA\n"
      ]
    },
    {
      "cell_type": "code",
      "metadata": {
        "colab": {
          "base_uri": "https://localhost:8080/",
          "height": 811
        },
        "id": "e5-NWNuHSnvr",
        "outputId": "2529db4e-f77b-48ee-946f-fbfe2b4dc183"
      },
      "source": [
        "!pip install scikit-plot\n",
        "from sklearn.metrics import confusion_matrix\n",
        "import scikitplot as skplt\n",
        "print(\"Plot with the PCA\")\n",
        "skplt.metrics.plot_confusion_matrix(mnist_test_y,y_pred_pca, normalize=True)\n",
        "print(\"Plot without the PCA\")\n",
        "\n",
        "skplt.metrics.plot_confusion_matrix(mnist_test_y,y_pred, normalize=True)"
      ],
      "execution_count": 99,
      "outputs": [
        {
          "output_type": "stream",
          "name": "stdout",
          "text": [
            "Requirement already satisfied: scikit-plot in /usr/local/lib/python3.7/dist-packages (0.3.7)\n",
            "Requirement already satisfied: matplotlib>=1.4.0 in /usr/local/lib/python3.7/dist-packages (from scikit-plot) (3.2.2)\n",
            "Requirement already satisfied: scipy>=0.9 in /usr/local/lib/python3.7/dist-packages (from scikit-plot) (1.4.1)\n",
            "Requirement already satisfied: scikit-learn>=0.18 in /usr/local/lib/python3.7/dist-packages (from scikit-plot) (0.22.2.post1)\n",
            "Requirement already satisfied: joblib>=0.10 in /usr/local/lib/python3.7/dist-packages (from scikit-plot) (1.0.1)\n",
            "Requirement already satisfied: python-dateutil>=2.1 in /usr/local/lib/python3.7/dist-packages (from matplotlib>=1.4.0->scikit-plot) (2.8.2)\n",
            "Requirement already satisfied: kiwisolver>=1.0.1 in /usr/local/lib/python3.7/dist-packages (from matplotlib>=1.4.0->scikit-plot) (1.3.2)\n",
            "Requirement already satisfied: pyparsing!=2.0.4,!=2.1.2,!=2.1.6,>=2.0.1 in /usr/local/lib/python3.7/dist-packages (from matplotlib>=1.4.0->scikit-plot) (2.4.7)\n",
            "Requirement already satisfied: numpy>=1.11 in /usr/local/lib/python3.7/dist-packages (from matplotlib>=1.4.0->scikit-plot) (1.19.5)\n",
            "Requirement already satisfied: cycler>=0.10 in /usr/local/lib/python3.7/dist-packages (from matplotlib>=1.4.0->scikit-plot) (0.10.0)\n",
            "Requirement already satisfied: six in /usr/local/lib/python3.7/dist-packages (from cycler>=0.10->matplotlib>=1.4.0->scikit-plot) (1.15.0)\n",
            "Plot with the PCA\n",
            "Plot without the PCA\n"
          ]
        },
        {
          "output_type": "execute_result",
          "data": {
            "text/plain": [
              "<matplotlib.axes._subplots.AxesSubplot at 0x7fd0fc94b510>"
            ]
          },
          "metadata": {},
          "execution_count": 99
        },
        {
          "output_type": "display_data",
          "data": {
            "image/png": "[encoded data removed]",
            "text/plain": [
              "<Figure size 432x288 with 2 Axes>"
            ]
          },
          "metadata": {
            "needs_background": "light"
          }
        },
        {
          "output_type": "display_data",
          "data": {
            "image/png": "[encoded data removed]",
            "text/plain": [
              "<Figure size 432x288 with 2 Axes>"
            ]
          },
          "metadata": {
            "needs_background": "light"
          }
        }
      ]
    },
    {
      "cell_type": "markdown",
      "metadata": {
        "id": "-D_0g-JESWiN"
      },
      "source": [
        "**Observations**"
      ]
    },
    {
      "cell_type": "markdown",
      "metadata": {
        "id": "vdf2vR4sSY6D"
      },
      "source": [
        "Accuracy for classifier for before appying PCA is greater than the accuracy after applying PCA.\n",
        "\n",
        "Reasons#\n",
        "\n",
        "**Time taken is high for training the model after applying PCA**\n",
        "\n",
        "Random forest is built, is by looking at possible splits and picking the best ones according to a certain criteria.\n",
        "By reducing the number of features we might have made the problem to find this splits more difficult which makes the algorithm need more iterations to find a good split.\n",
        "\n",
        "**Accuracy after applying PCA is low**\n",
        "\n",
        " PCA will treat the feature has large variance as important features, but the feature has large variance can have noting to do with the prediction target.\n",
        "There is quite a possibilty that features after applying PCA might have suffered some data loss.\n",
        "\n"
      ]
    }
  ]
}